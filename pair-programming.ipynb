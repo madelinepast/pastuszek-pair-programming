{
 "cells": [
  {
   "cell_type": "code",
   "execution_count": 4,
   "id": "37ae6d47-cecb-43b3-a876-5bb462fce78f",
   "metadata": {},
   "outputs": [],
   "source": [
    "# Take two values (feet and inches) and convert to meters\n",
    "def ftin_to_meters(ft,inches):\n",
    "    # convert ft to inches and get a total number of inches\n",
    "    comb = (ft*12) + inches\n",
    "    # convert total inches to meters\n",
    "    meters = (0.0254*comb)\n",
    "    # return meters value\n",
    "    return meters"
   ]
  },
  {
   "cell_type": "code",
   "execution_count": 6,
   "id": "adfc0fdf-0308-4cf4-a45e-41d17ec35dcc",
   "metadata": {},
   "outputs": [
    {
     "data": {
      "text/plain": [
       "1.6764"
      ]
     },
     "execution_count": 6,
     "metadata": {},
     "output_type": "execute_result"
    }
   ],
   "source": [
    "ftin_to_meters(5,6)"
   ]
  },
  {
   "cell_type": "code",
   "execution_count": null,
   "id": "8f9c3c60-c326-4634-8455-7366d0d31a7b",
   "metadata": {},
   "outputs": [],
   "source": []
  }
 ],
 "metadata": {
  "kernelspec": {
   "display_name": "Python 3 (ipykernel)",
   "language": "python",
   "name": "python3"
  },
  "language_info": {
   "codemirror_mode": {
    "name": "ipython",
    "version": 3
   },
   "file_extension": ".py",
   "mimetype": "text/x-python",
   "name": "python",
   "nbconvert_exporter": "python",
   "pygments_lexer": "ipython3",
   "version": "3.9.13"
  }
 },
 "nbformat": 4,
 "nbformat_minor": 5
}
